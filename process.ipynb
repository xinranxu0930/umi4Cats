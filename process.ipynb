{
 "cells": [
  {
   "cell_type": "code",
   "execution_count": 1,
   "metadata": {
    "vscode": {
     "languageId": "r"
    }
   },
   "outputs": [
    {
     "name": "stderr",
     "output_type": "stream",
     "text": [
      "Loading required package: misha\n",
      "\n",
      "Loading required package: zoo\n",
      "\n",
      "\n",
      "Attaching package: ‘zoo’\n",
      "\n",
      "\n",
      "The following objects are masked from ‘package:base’:\n",
      "\n",
      "    as.Date, as.Date.numeric\n",
      "\n",
      "\n"
     ]
    }
   ],
   "source": [
    "library(\"umi4cPackage\")"
   ]
  },
  {
   "cell_type": "code",
   "execution_count": null,
   "metadata": {
    "vscode": {
     "languageId": "r"
    }
   },
   "outputs": [],
   "source": [
    "p4cBuildRequirements(output_dir = \"/mnt/hpc/home/xuxinran/4C/UMI4C/date/dongqing_1101/umi4cpackage\", genome = \"hg19\", reseq = \"CATG\")\n",
    "# wget http://www.wisdom.weizmann.ac.il/~omersch/hg19_CATG.tar.gz\n",
    "# tar -xzvf hg19_CATG.tar.gz"
   ]
  },
  {
   "cell_type": "code",
   "execution_count": 2,
   "metadata": {
    "vscode": {
     "languageId": "r"
    }
   },
   "outputs": [
    {
     "name": "stderr",
     "output_type": "stream",
     "text": [
      "Warning message in p4cDumpConfFiles(conf_dir = \"/mnt/hpc/home/xuxinran/4C/UMI4C/date/dongqing_0113/umi4cpackage/conf\"):\n",
      "“couldn't dump conf files to /mnt/hpc/home/xuxinran/4C/UMI4C/date/dongqing_0113/umi4cpackage/conf\n",
      "  Perhaps they're already there? ”\n",
      "\n",
      "Make sure you fill all the conf files before continuing!\n",
      "\n",
      "\n"
     ]
    }
   ],
   "source": [
    "# 下载conf文件夹\n",
    "p4cDumpConfFiles(conf_dir = \"/mnt/hpc/home/xuxinran/4C/UMI4C/date/dongqing_0113/umi4cpackage/conf\")\n",
    "# 修改conf"
   ]
  },
  {
   "cell_type": "code",
   "execution_count": 7,
   "metadata": {
    "vscode": {
     "languageId": "r"
    }
   },
   "outputs": [
    {
     "name": "stderr",
     "output_type": "stream",
     "text": [
      "40 parameters were already defined in this sessions and they will overwritten!\n",
      "\n"
     ]
    }
   ],
   "source": [
    "p4cLoadConfFiles(conf_dir = \"/mnt/hpc/home/xuxinran/4C/UMI4C/date/dongqing_0113/umi4cpackage/conf\")"
   ]
  },
  {
   "cell_type": "code",
   "execution_count": 8,
   "metadata": {
    "vscode": {
     "languageId": "r"
    }
   },
   "outputs": [
    {
     "name": "stderr",
     "output_type": "stream",
     "text": [
      "Will write tracks to /mnt/hpc/home/xuxinran/4C/UMI4C/date/dongqing_1101/umi4cpackage/hg19/trackdb\n",
      "\n",
      "Work dir is /mnt/hpc/home/xuxinran/4C/UMI4C/date/dongqing_0113/umi4cpackage\n",
      "\n",
      "\n",
      "\n",
      "Import 4C from fastq\n",
      "\n",
      "\n",
      "working on sample ID 1\n",
      "\n",
      "perl /mnt/hpc/home/xuxinran/mambaforge/envs/umi4c/lib/R/library/umi4cPackage/perl/map3c/TG3C/import3C.pl @/mnt/hpc/home/xuxinran/4C/UMI4C/date/dongqing_0113/umi4cpackage/conf/pipeline.conf @/mnt/hpc/home/xuxinran/4C/UMI4C/date/dongqing_0113/umi4cpackage/conf/paths.conf -TG3C.sample_id 1 -TG3C.perl_scripts_path /mnt/hpc/home/xuxinran/mambaforge/envs/umi4c/lib/R/library/umi4cPackage/perl\n",
      "\n",
      "\n",
      "\n"
     ]
    },
    {
     "name": "stderr",
     "output_type": "stream",
     "text": [
      "Will import umi4C_example_S1824_PTPN1 from /mnt/hpc/home/xuxinran/4C/UMI4C/date/dongqing_0113/umi4cpackage/example.S1824/adj.PTPN1 fends at /mnt/hpc/home/xuxinran/4C/UMI4C/date/dongqing_1101/umi4cpackage/hg19/redb/CATG.fends\n",
      "\n",
      "umi4C_example_S1824_PTPN1 was imported succsesfully! \n",
      "\n"
     ]
    }
   ],
   "source": [
    "p4cCreate4CseqTrack(sample_ids = c(1))"
   ]
  },
  {
   "cell_type": "code",
   "execution_count": 10,
   "metadata": {
    "vscode": {
     "languageId": "r"
    }
   },
   "outputs": [
    {
     "name": "stderr",
     "output_type": "stream",
     "text": [
      "Will write tracks to /mnt/hpc/home/xuxinran/4C/UMI4C/date/dongqing_1101/umi4cpackage/hg19/trackdb\n",
      "\n",
      "Work dir is /mnt/hpc/home/xuxinran/4C/UMI4C/date/dongqing_0113/umi4cpackage\n",
      "\n",
      "\n",
      "\n",
      "Import 4C from fastq\n",
      "\n",
      "\n",
      "working on sample ID 2\n",
      "\n",
      "perl /mnt/hpc/home/xuxinran/mambaforge/envs/umi4c/lib/R/library/umi4cPackage/perl/map3c/TG3C/import3C.pl @/mnt/hpc/home/xuxinran/4C/UMI4C/date/dongqing_0113/umi4cpackage/conf/pipeline.conf @/mnt/hpc/home/xuxinran/4C/UMI4C/date/dongqing_0113/umi4cpackage/conf/paths.conf -TG3C.sample_id 2 -TG3C.perl_scripts_path /mnt/hpc/home/xuxinran/mambaforge/envs/umi4c/lib/R/library/umi4cPackage/perl\n",
      "\n",
      "\n",
      "\n",
      "Will import umi4C_example_Z12g_PTPN1 from /mnt/hpc/home/xuxinran/4C/UMI4C/date/dongqing_0113/umi4cpackage/example.Z12g/adj.PTPN1 fends at /mnt/hpc/home/xuxinran/4C/UMI4C/date/dongqing_1101/umi4cpackage/hg19/redb/CATG.fends\n",
      "\n",
      "umi4C_example_Z12g_PTPN1 was imported succsesfully! \n",
      "\n"
     ]
    }
   ],
   "source": [
    "p4cCreate4CseqTrack(sample_ids = c(2))"
   ]
  },
  {
   "cell_type": "code",
   "execution_count": 11,
   "metadata": {
    "vscode": {
     "languageId": "r"
    }
   },
   "outputs": [
    {
     "data": {
      "text/html": [
       "<style>\n",
       ".list-inline {list-style: none; margin:0; padding: 0}\n",
       ".list-inline>li {display: inline-block}\n",
       ".list-inline>li:not(:last-child)::after {content: \"\\00b7\"; padding: 0 .5ex}\n",
       "</style>\n",
       "<ol class=list-inline><li>'redb.CATG_flen'</li><li>'redb.CATG_gc'</li><li>'redb.CATG_map'</li><li>'redb.feCATG_flen'</li><li>'redb.feCATG_gc'</li><li>'redb.feCATG_map'</li><li>'umi4C_example_S1824_PTPN1'</li><li>'umi4C_example_Z12g_PTPN1'</li></ol>\n"
      ],
      "text/latex": [
       "\\begin{enumerate*}\n",
       "\\item 'redb.CATG\\_flen'\n",
       "\\item 'redb.CATG\\_gc'\n",
       "\\item 'redb.CATG\\_map'\n",
       "\\item 'redb.feCATG\\_flen'\n",
       "\\item 'redb.feCATG\\_gc'\n",
       "\\item 'redb.feCATG\\_map'\n",
       "\\item 'umi4C\\_example\\_S1824\\_PTPN1'\n",
       "\\item 'umi4C\\_example\\_Z12g\\_PTPN1'\n",
       "\\end{enumerate*}\n"
      ],
      "text/markdown": [
       "1. 'redb.CATG_flen'\n",
       "2. 'redb.CATG_gc'\n",
       "3. 'redb.CATG_map'\n",
       "4. 'redb.feCATG_flen'\n",
       "5. 'redb.feCATG_gc'\n",
       "6. 'redb.feCATG_map'\n",
       "7. 'umi4C_example_S1824_PTPN1'\n",
       "8. 'umi4C_example_Z12g_PTPN1'\n",
       "\n",
       "\n"
      ],
      "text/plain": [
       "[1] \"redb.CATG_flen\"            \"redb.CATG_gc\"             \n",
       "[3] \"redb.CATG_map\"             \"redb.feCATG_flen\"         \n",
       "[5] \"redb.feCATG_gc\"            \"redb.feCATG_map\"          \n",
       "[7] \"umi4C_example_S1824_PTPN1\" \"umi4C_example_Z12g_PTPN1\" "
      ]
     },
     "metadata": {},
     "output_type": "display_data"
    }
   ],
   "source": [
    "gtrack.ls()"
   ]
  },
  {
   "cell_type": "code",
   "execution_count": 12,
   "metadata": {
    "vscode": {
     "languageId": "r"
    }
   },
   "outputs": [
    {
     "name": "stderr",
     "output_type": "stream",
     "text": [
      "Will use stat_type linear\n",
      "\n",
      "Done extract, contacts in window: 1\n",
      "\n"
     ]
    }
   ],
   "source": [
    "S1824 <- p4cNewProfile(\"umi4C_example_S1824_PTPN1\")"
   ]
  },
  {
   "cell_type": "code",
   "execution_count": 13,
   "metadata": {
    "vscode": {
     "languageId": "r"
    }
   },
   "outputs": [
    {
     "name": "stderr",
     "output_type": "stream",
     "text": [
      "Will use stat_type linear\n",
      "\n"
     ]
    },
    {
     "name": "stderr",
     "output_type": "stream",
     "text": [
      "Done extract, contacts in window: 2\n",
      "\n"
     ]
    }
   ],
   "source": [
    "z12gctr <- p4cNewProfile(\"umi4C_example_Z12g_PTPN1\")"
   ]
  },
  {
   "cell_type": "code",
   "execution_count": null,
   "metadata": {
    "vscode": {
     "languageId": "r"
    }
   },
   "outputs": [],
   "source": [
    "# plot(S1824, png_fn=paste0(\"/mnt/hpc/home/xuxinran/4C/UMI4C/date/qianting_1114/umi4cpackage/S1824.png\"))\n"
   ]
  },
  {
   "cell_type": "code",
   "execution_count": 27,
   "metadata": {
    "vscode": {
     "languageId": "r"
    }
   },
   "outputs": [
    {
     "name": "stderr",
     "output_type": "stream",
     "text": [
      "Will use stat_type linear\n",
      "\n"
     ]
    },
    {
     "name": "stderr",
     "output_type": "stream",
     "text": [
      "Done extract, contacts in window: 0\n",
      "\n",
      "Will create smoothed trend for track with min_win_cov = 50\n",
      "\n",
      "Plotting from 49100000 to 49126920\n",
      "\n",
      "Range of values in dgram: from 0 to 0\n",
      "\n",
      "Warning message in min(dgram[, n:3], na.rm = T):\n",
      "“no non-missing arguments to min; returning Inf”\n",
      "Warning message in max(dgram[, n:3], na.rm = T):\n",
      "“no non-missing arguments to max; returning -Inf”\n",
      "Transformed to log2(fraction of max): from Inf to -Inf\n",
      "\n"
     ]
    }
   ],
   "source": [
    "z12gctr <- p4cNewProfile(\"umi4C_example_z12gctr_1_PTPN1_z12gctr_1_PTPN1\", scope_5=100000, scope_3=50000)\n",
    "plot(z12gctr, xlim = c(49100000,49126920), ylim = c(0,3), png_fn=paste0(\"/mnt/hpc/home/xuxinran/4C/UMI4C/date/dongqing_1101/umi4cpackage/z12gctr.png\"))\n"
   ]
  },
  {
   "cell_type": "code",
   "execution_count": 29,
   "metadata": {
    "vscode": {
     "languageId": "r"
    }
   },
   "outputs": [
    {
     "name": "stderr",
     "output_type": "stream",
     "text": [
      "Will use stat_type linear\n",
      "\n",
      "Done extract, contacts in window: 2\n",
      "\n",
      "bin 10000 tot 0\n",
      "\n",
      "bin 1e+05 tot 2\n",
      "\n",
      "bin 1e+06 tot 2\n",
      "\n",
      "bin 2e+06 tot 0\n",
      "\n",
      "Will use stat_type linear\n",
      "\n",
      "Done extract, contacts in window: 0\n",
      "\n",
      "bin 10000 tot 0\n",
      "\n",
      "bin 1e+05 tot 0\n",
      "\n",
      "bin 1e+06 tot 0\n",
      "\n",
      "bin 2e+06 tot 0\n",
      "\n",
      "Will attempt getting coverage for 148 scales\n",
      "\n",
      "Warning message in max(trend1, ref_trend, na.rm = T):\n",
      "“no non-missing arguments to max; returning -Inf”\n",
      "Plotting 49001862 49149365\n",
      "\n",
      "Range 49001862 to 49149365\n",
      "\n"
     ]
    },
    {
     "ename": "ERROR",
     "evalue": "Error in plot.window(...): need finite 'ylim' values\n",
     "output_type": "error",
     "traceback": [
      "Error in plot.window(...): need finite 'ylim' values\nTraceback:\n",
      "1. plot.p4cProfile(S1824, z12gctr)",
      "2. plotCompProf(p4c_obj1, p4c_obj2, trend_scale = trend_scale, png_fn = png_fn, \n .     ...)",
      "3. plotCompProf.p4cProfile(p4c_obj1, p4c_obj2, trend_scale = trend_scale, \n .     png_fn = png_fn, ...)",
      "4. plot(coords, trend1, lwd = 2, type = \"l\", ylim = ylim, xlab = \"\", \n .     ylab = \"\", xaxt = \"n\", yaxt = \"n\", col = col[1], xlim = xlim, \n .     bty = \"n\")",
      "5. plot.default(coords, trend1, lwd = 2, type = \"l\", ylim = ylim, \n .     xlab = \"\", ylab = \"\", xaxt = \"n\", yaxt = \"n\", col = col[1], \n .     xlim = xlim, bty = \"n\")",
      "6. localWindow(xlim, ylim, log, asp, ...)",
      "7. plot.window(...)",
      "8. .handleSimpleError(function (cnd) \n . {\n .     watcher$capture_plot_and_output()\n .     cnd <- sanitize_call(cnd)\n .     watcher$push(cnd)\n .     switch(on_error, continue = invokeRestart(\"eval_continue\"), \n .         stop = invokeRestart(\"eval_stop\"), error = invokeRestart(\"eval_error\", \n .             cnd))\n . }, \"need finite 'ylim' values\", base::quote(plot.window(...)))"
     ]
    }
   ],
   "source": [
    "\n",
    "pdf('/mnt/hpc/home/xuxinran/4C/UMI4C/date/dongqing_1101/umi4cpackage/VS.pdf',height = 3,width = 15)\n",
    "plot(S1824, z12gctr)\n",
    "dev.off()"
   ]
  }
 ],
 "metadata": {
  "kernelspec": {
   "display_name": "R",
   "language": "R",
   "name": "ir"
  },
  "language_info": {
   "codemirror_mode": "r",
   "file_extension": ".r",
   "mimetype": "text/x-r-source",
   "name": "R",
   "pygments_lexer": "r",
   "version": "4.3.3"
  }
 },
 "nbformat": 4,
 "nbformat_minor": 2
}
