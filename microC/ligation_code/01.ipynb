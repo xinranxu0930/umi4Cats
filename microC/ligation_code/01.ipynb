{
 "cells": [
  {
   "cell_type": "code",
   "execution_count": 2,
   "metadata": {},
   "outputs": [],
   "source": [
    "import pandas as pd\n",
    "import numpy as np\n",
    "\n",
    "# 读取txt文件\n",
    "df = pd.read_csv('/mnt/hpc/home/xuxinran/microC/data/xueqi_240429_k562_microC_microCUT/qc/ligation/only_valid_id.txt', header=None)\n",
    "# 将数据平均分为10份\n",
    "sub_dfs = np.array_split(df, 40)\n",
    "\n",
    "# 批量保存子list\n",
    "for i, sub_df in enumerate(sub_dfs, 1):\n",
    "    sub_df.to_csv(f'/mnt/hpc/home/xuxinran/microC/date/date_0327/scMicroC/unvalid/oldmcc/only_valid_id_{i}_tmp.txt', index=False, header=False)"
   ]
  }
 ],
 "metadata": {
  "kernelspec": {
   "display_name": "micro-c",
   "language": "python",
   "name": "python3"
  },
  "language_info": {
   "codemirror_mode": {
    "name": "ipython",
    "version": 3
   },
   "file_extension": ".py",
   "mimetype": "text/x-python",
   "name": "python",
   "nbconvert_exporter": "python",
   "pygments_lexer": "ipython3",
   "version": "3.10.8"
  }
 },
 "nbformat": 4,
 "nbformat_minor": 2
}
