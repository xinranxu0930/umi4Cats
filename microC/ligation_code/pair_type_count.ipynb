{
 "cells": [
  {
   "cell_type": "code",
   "execution_count": 7,
   "metadata": {},
   "outputs": [],
   "source": [
    "import pysam\n",
    "import pandas as pd\n",
    "import pickle"
   ]
  },
  {
   "cell_type": "code",
   "execution_count": 22,
   "metadata": {},
   "outputs": [],
   "source": [
    "df = pd.read_csv('/mnt/hpc/home/xuxinran/microC/date/date_0820_1micriC_2microRUN/microRUN/no-GM-K27ac-2_L7_G028_parsed.pairsam',sep=\"\\t\",header=None,comment=\"#\",usecols=[0,7])\n",
    "# df.columns = [\"readID\",\"chrom1\",\"pos1\",\"chrom2\",\"pos2\",\"strand1\",\"strand2\",\"pair_type\",\"sam1\",\"sam2\"]\n",
    "df.columns = [\"readID\",\"pair_type\"]"
   ]
  },
  {
   "cell_type": "code",
   "execution_count": 13,
   "metadata": {},
   "outputs": [
    {
     "data": {
      "text/html": [
       "<div>\n",
       "<style scoped>\n",
       "    .dataframe tbody tr th:only-of-type {\n",
       "        vertical-align: middle;\n",
       "    }\n",
       "\n",
       "    .dataframe tbody tr th {\n",
       "        vertical-align: top;\n",
       "    }\n",
       "\n",
       "    .dataframe thead th {\n",
       "        text-align: right;\n",
       "    }\n",
       "</style>\n",
       "<table border=\"1\" class=\"dataframe\">\n",
       "  <thead>\n",
       "    <tr style=\"text-align: right;\">\n",
       "      <th></th>\n",
       "      <th>readID</th>\n",
       "      <th>pair_type</th>\n",
       "    </tr>\n",
       "  </thead>\n",
       "  <tbody>\n",
       "    <tr>\n",
       "      <th>189</th>\n",
       "      <td>LH00152:52:22CTKWLT3:2:1101:32122:1160</td>\n",
       "      <td>NN</td>\n",
       "    </tr>\n",
       "    <tr>\n",
       "      <th>207</th>\n",
       "      <td>LH00152:52:22CTKWLT3:2:1101:9571:1176</td>\n",
       "      <td>NN</td>\n",
       "    </tr>\n",
       "    <tr>\n",
       "      <th>394</th>\n",
       "      <td>LH00152:52:22CTKWLT3:2:1101:10755:1272</td>\n",
       "      <td>NN</td>\n",
       "    </tr>\n",
       "    <tr>\n",
       "      <th>438</th>\n",
       "      <td>LH00152:52:22CTKWLT3:2:1101:51225:1288</td>\n",
       "      <td>NN</td>\n",
       "    </tr>\n",
       "    <tr>\n",
       "      <th>528</th>\n",
       "      <td>LH00152:52:22CTKWLT3:2:1101:48127:1336</td>\n",
       "      <td>NN</td>\n",
       "    </tr>\n",
       "    <tr>\n",
       "      <th>769</th>\n",
       "      <td>LH00152:52:22CTKWLT3:2:1101:16737:1481</td>\n",
       "      <td>NN</td>\n",
       "    </tr>\n",
       "    <tr>\n",
       "      <th>822</th>\n",
       "      <td>LH00152:52:22CTKWLT3:2:1101:14814:1513</td>\n",
       "      <td>NN</td>\n",
       "    </tr>\n",
       "    <tr>\n",
       "      <th>855</th>\n",
       "      <td>LH00152:52:22CTKWLT3:2:1101:18910:1529</td>\n",
       "      <td>NN</td>\n",
       "    </tr>\n",
       "    <tr>\n",
       "      <th>899</th>\n",
       "      <td>LH00152:52:22CTKWLT3:2:1101:43662:1545</td>\n",
       "      <td>nn</td>\n",
       "    </tr>\n",
       "    <tr>\n",
       "      <th>1115</th>\n",
       "      <td>LH00152:52:22CTKWLT3:2:1101:45391:1657</td>\n",
       "      <td>NN</td>\n",
       "    </tr>\n",
       "  </tbody>\n",
       "</table>\n",
       "</div>"
      ],
      "text/plain": [
       "                                      readID pair_type\n",
       "189   LH00152:52:22CTKWLT3:2:1101:32122:1160        NN\n",
       "207    LH00152:52:22CTKWLT3:2:1101:9571:1176        NN\n",
       "394   LH00152:52:22CTKWLT3:2:1101:10755:1272        NN\n",
       "438   LH00152:52:22CTKWLT3:2:1101:51225:1288        NN\n",
       "528   LH00152:52:22CTKWLT3:2:1101:48127:1336        NN\n",
       "769   LH00152:52:22CTKWLT3:2:1101:16737:1481        NN\n",
       "822   LH00152:52:22CTKWLT3:2:1101:14814:1513        NN\n",
       "855   LH00152:52:22CTKWLT3:2:1101:18910:1529        NN\n",
       "899   LH00152:52:22CTKWLT3:2:1101:43662:1545        nn\n",
       "1115  LH00152:52:22CTKWLT3:2:1101:45391:1657        NN"
      ]
     },
     "execution_count": 13,
     "metadata": {},
     "output_type": "execute_result"
    }
   ],
   "source": [
    "df[df['pair_type'].str.match('^[Nn][Nn]$')].head(10)"
   ]
  },
  {
   "cell_type": "code",
   "execution_count": 23,
   "metadata": {},
   "outputs": [
    {
     "data": {
      "text/plain": [
       "121708"
      ]
     },
     "execution_count": 23,
     "metadata": {},
     "output_type": "execute_result"
    }
   ],
   "source": [
    "# both M\n",
    "df['pair_type'].str.count('^[Mm][Mm]$').sum()"
   ]
  },
  {
   "cell_type": "code",
   "execution_count": 24,
   "metadata": {},
   "outputs": [
    {
     "data": {
      "text/plain": [
       "198408"
      ]
     },
     "execution_count": 24,
     "metadata": {},
     "output_type": "execute_result"
    }
   ],
   "source": [
    "# single M\n",
    "df['pair_type'].str.count('^[Mm][UuRr]|[UuRr][Mm]$').sum()"
   ]
  },
  {
   "cell_type": "code",
   "execution_count": 25,
   "metadata": {},
   "outputs": [
    {
     "data": {
      "text/plain": [
       "4877"
      ]
     },
     "execution_count": 25,
     "metadata": {},
     "output_type": "execute_result"
    }
   ],
   "source": [
    "# both N\n",
    "df['pair_type'].str.count('^[Nn][Nn]$').sum()"
   ]
  },
  {
   "cell_type": "code",
   "execution_count": 26,
   "metadata": {},
   "outputs": [
    {
     "data": {
      "text/plain": [
       "13274"
      ]
     },
     "execution_count": 26,
     "metadata": {},
     "output_type": "execute_result"
    }
   ],
   "source": [
    "# single N\n",
    "df['pair_type'].str.count('^(N[^Nn]|n[^Nn]|[^Nn]N|[^Nn]n)$').sum()"
   ]
  }
 ],
 "metadata": {
  "kernelspec": {
   "display_name": "micro-c",
   "language": "python",
   "name": "python3"
  },
  "language_info": {
   "codemirror_mode": {
    "name": "ipython",
    "version": 3
   },
   "file_extension": ".py",
   "mimetype": "text/x-python",
   "name": "python",
   "nbconvert_exporter": "python",
   "pygments_lexer": "ipython3",
   "version": "3.10.8"
  }
 },
 "nbformat": 4,
 "nbformat_minor": 2
}
